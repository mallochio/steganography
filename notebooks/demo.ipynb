{
 "cells": [
  {
   "cell_type": "markdown",
   "metadata": {},
   "source": [
    "# Steganography Demo\n",
    "\n",
    "This notebook demonstrates how to use the steganography techniques implemented in this repository."
   ]
  },
  {
   "cell_type": "code",
   "execution_count": null,
   "metadata": {},
   "outputs": [],
   "source": [
    "import sys\n",
    "import os\n",
    "sys.path.append('..')\n",
    "\n",
    "from src.steganography import lsb_encode, lsb_decode, dct_encode, dct_decode\n",
    "import cv2\n",
    "import numpy as np\n",
    "from PIL import Image\n",
    "from matplotlib import pyplot as plt"
   ]
  },
  {
   "cell_type": "markdown",
   "metadata": {},
   "source": [
    "## 1. LSB Steganography"
   ]
  },
  {
   "cell_type": "code",
   "execution_count": null,
   "metadata": {},
   "outputs": [],
   "source": [
    "# Load the cover and secret images\n",
    "cover_image_path = '../images/person_mask.jpg'\n",
    "secret_image_path = '../images/me.png'\n",
    "\n",
    "cover = Image.open(cover_image_path)\n",
    "secret = Image.open(secret_image_path).convert('1')  # Convert to binary\n",
    "\n",
    "# Display original images\n",
    "plt.figure(figsize=(12, 6))\n",
    "plt.subplot(121)\n",
    "plt.imshow(cover, cmap='gray')\n",
    "plt.title('Cover Image')\n",
    "plt.subplot(122)\n",
    "plt.imshow(secret, cmap='gray')\n",
    "plt.title('Secret Image')\n",
    "plt.tight_layout()\n",
    "plt.show()"
   ]
  },
  {
   "cell_type": "code",
   "execution_count": null,
   "metadata": {},
   "outputs": [],
   "source": [
    "# Encode the secret image into the cover image\n",
    "encoded_img = lsb_encode(cover, secret)\n",
    "\n",
    "# Display encoded image\n",
    "plt.figure(figsize=(12, 6))\n",
    "plt.subplot(121)\n",
    "plt.imshow(cover, cmap='gray')\n",
    "plt.title('Original Cover Image')\n",
    "plt.subplot(122)\n",
    "plt.imshow(encoded_img, cmap='gray')\n",
    "plt.title('Encoded Image (LSB)')\n",
    "plt.tight_layout()\n",
    "plt.show()"
   ]
  },
  {
   "cell_type": "code",
   "execution_count": null,
   "metadata": {},
   "outputs": [],
   "source": [
    "# Decode the secret image\n",
    "decoded_img = lsb_decode(encoded_img)\n",
    "\n",
    "# Resize decoded image to original secret image size if needed\n",
    "decoded_img = decoded_img.resize(secret.size)\n",
    "\n",
    "# Display decoded image\n",
    "plt.figure(figsize=(12, 6))\n",
    "plt.subplot(121)\n",
    "plt.imshow(secret, cmap='gray')\n",
    "plt.title('Original Secret Image')\n",
    "plt.subplot(122)\n",
    "plt.imshow(decoded_img, cmap='gray')\n",
    "plt.title('Decoded Secret Image')\n",
    "plt.tight_layout()\n",
    "plt.show()"
   ]
  },
  {
   "cell_type": "markdown",
   "metadata": {},
   "source": [
    "## 2. DCT Steganography"
   ]
  },
  {
   "cell_type": "code",
   "execution_count": null,
   "metadata": {},
   "outputs": [],
   "source": [
    "# Load the cover and secret images\n",
    "cover_image = cv2.imread(cover_image_path, cv2.IMREAD_GRAYSCALE)\n",
    "secret_image = cv2.imread(secret_image_path, cv2.IMREAD_GRAYSCALE)\n",
    "\n",
    "# Display original images\n",
    "plt.figure(figsize=(12, 6))\n",
    "plt.subplot(121)\n",
    "plt.imshow(cover_image, cmap='gray')\n",
    "plt.title('Cover Image')\n",
    "plt.subplot(122)\n",
    "plt.imshow(secret_image, cmap='gray')\n",
    "plt.title('Secret Image')\n",
    "plt.tight_layout()\n",
    "plt.show()"
   ]
  },
  {
   "cell_type": "code",
   "execution_count": null,
   "metadata": {},
   "outputs": [],
   "source": [
    "# Encode using DCT\n",
    "scale_factor = 0.1  # Controls visibility of the hidden image\n",
    "stego_image = dct_encode(cover_image, secret_image, scale_factor=scale_factor)\n",
    "\n",
    "# Display encoded image\n",
    "plt.figure(figsize=(12, 6))\n",
    "plt.subplot(121)\n",
    "plt.imshow(cover_image, cmap='gray')\n",
    "plt.title('Original Cover Image')\n",
    "plt.subplot(122)\n",
    "plt.imshow(stego_image, cmap='gray')\n",
    "plt.title('Encoded Image (DCT)')\n",
    "plt.tight_layout()\n",
    "plt.show()"
   ]
  },
  {
   "cell_type": "code",
   "execution_count": null,
   "metadata": {},
   "outputs": [],
   "source": [
    "# Decode the secret image\n",
    "decoded_secret = dct_decode(stego_image, cover_image, scale_factor=scale_factor, \n",
    "                            secret_shape=secret_image.shape)\n",
    "\n",
    "# Display decoded image\n",
    "plt.figure(figsize=(12, 6))\n",
    "plt.subplot(121)\n",
    "plt.imshow(secret_image, cmap='gray')\n",
    "plt.title('Original Secret Image')\n",
    "plt.subplot(122)\n",
    "plt.imshow(decoded_secret, cmap='gray')\n",
    "plt.title('Decoded Secret Image')\n",
    "plt.tight_layout()\n",
    "plt.show()"
   ]
  },
  {
   "cell_type": "markdown",
   "metadata": {},
   "source": [
    "## Comparison of Image Quality\n",
    "\n",
    "Let's calculate the PSNR (Peak Signal-to-Noise Ratio) to compare the quality of the encoded images."
   ]
  },
  {
   "cell_type": "code",
   "execution_count": null,
   "metadata": {},
   "outputs": [],
   "source": [
    "def calculate_psnr(original, encoded):\n",
    "    \"\"\"Calculate Peak Signal-to-Noise Ratio between two images.\"\"\"\n",
    "    if isinstance(original, Image.Image):\n",
    "        original = np.array(original)\n",
    "    if isinstance(encoded, Image.Image):\n",
    "        encoded = np.array(encoded)\n",
    "    \n",
    "    mse = np.mean((original - encoded) ** 2)\n",
    "    if mse == 0:\n",
    "        return float('inf')\n",
    "    max_pixel = 255.0\n",
    "    psnr = 20 * np.log10(max_pixel / np.sqrt(mse))\n",
    "    return psnr\n",
    "\n",
    "# Calculate PSNR for LSB method\n",
    "psnr_lsb = calculate_psnr(np.array(cover), np.array(encoded_img))\n",
    "print(f\"PSNR for LSB steganography: {psnr_lsb:.2f} dB\")\n",
    "\n",
    "# Calculate PSNR for DCT method\n",
    "psnr_dct = calculate_psnr(cover_image, stego_image)\n",
    "print(f\"PSNR for DCT steganography: {psnr_dct:.2f} dB\")"
   ]
  }
 ],
 "metadata": {
  "language_info": {
   "name": "python"
  }
 },
 "nbformat": 4,
 "nbformat_minor": 2
}
